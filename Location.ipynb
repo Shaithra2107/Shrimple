{
  "nbformat": 4,
  "nbformat_minor": 0,
  "metadata": {
    "colab": {
      "provenance": [],
      "authorship_tag": "ABX9TyMO5w2MYp8Imgaa9OKCeBQe",
      "include_colab_link": true
    },
    "kernelspec": {
      "name": "python3",
      "display_name": "Python 3"
    },
    "language_info": {
      "name": "python"
    }
  },
  "cells": [
    {
      "cell_type": "markdown",
      "metadata": {
        "id": "view-in-github",
        "colab_type": "text"
      },
      "source": [
        "<a href=\"https://colab.research.google.com/github/dataemperor/Shrimple/blob/shaithra/Location.ipynb\" target=\"_parent\"><img src=\"https://colab.research.google.com/assets/colab-badge.svg\" alt=\"Open In Colab\"/></a>"
      ]
    },
    {
      "cell_type": "code",
      "execution_count": 1,
      "metadata": {
        "colab": {
          "base_uri": "https://localhost:8080/"
        },
        "id": "4jGNjF8zxI_N",
        "outputId": "12188173-bffb-43a6-ec67-ea5db06839d3"
      },
      "outputs": [
        {
          "output_type": "stream",
          "name": "stdout",
          "text": [
            "Mounted at /content/drive\n"
          ]
        }
      ],
      "source": [
        "from google.colab import drive\n",
        "drive.mount('/content/drive')\n"
      ]
    },
    {
      "cell_type": "code",
      "source": [
        "import pandas as pd\n",
        "\n",
        "# Define the file path\n",
        "file_path = '/content/drive/My Drive/Shrimple Dataset/locationData.csv'\n",
        "\n",
        "# Load the dataset\n",
        "df = pd.read_csv(file_path)"
      ],
      "metadata": {
        "id": "VawY7xUMxMb0"
      },
      "execution_count": 2,
      "outputs": []
    },
    {
      "cell_type": "code",
      "source": [
        "# Display the first few rows\n",
        "print(df.head())\n",
        "\n",
        "# Check for missing values and data types\n",
        "print(df.info())\n",
        "\n",
        "# Summary statistics\n",
        "print(df.describe())\n",
        "\n",
        "# Check the shape of the dataset\n",
        "print(f\"Dataset shape: {df.shape}\")\n",
        "\n",
        "# Check for missing values\n",
        "print(f\"\\nMissing values in each column:\\n{df.isnull().sum()}\")\n",
        "\n",
        "# Check the data types of each column\n",
        "print(f\"\\nData types of each column:\\n{df.dtypes}\")\n",
        "\n",
        "# Summary statistics for numerical columns\n",
        "print(f\"\\nSummary statistics for numerical columns:\\n{df.describe()}\") #Computes summary statistics for all numerical columns in the dataset.\n",
        "# Provides an overview of numerical data distribution and identifies anomalies (e.g., extreme outliers).\n",
        "\n",
        "\n",
        "\n",
        "\n"
      ],
      "metadata": {
        "colab": {
          "base_uri": "https://localhost:8080/"
        },
        "id": "5MgGO1JOxqYU",
        "outputId": "ae96cc19-6f57-49f1-ea7d-75b127e37a85"
      },
      "execution_count": 3,
      "outputs": [
        {
          "output_type": "stream",
          "name": "stdout",
          "text": [
            "   location_id  latitude  longitude  elevation  utc_offset_seconds  \\\n",
            "0            0  6.924429   79.90725          4               19800   \n",
            "1            1  7.065026   79.96622         19               19800   \n",
            "2            2  6.572935   80.02519          5               19800   \n",
            "3            3  7.275923   80.62659        499               19800   \n",
            "4            4  7.486819   80.52632        362               19800   \n",
            "\n",
            "       timezone  timezone_abbreviation city_name  \n",
            "0  Asia/Colombo                    530   Colombo  \n",
            "1  Asia/Colombo                    530   Gampaha  \n",
            "2  Asia/Colombo                    530  Kalutara  \n",
            "3  Asia/Colombo                    530     Kandy  \n",
            "4  Asia/Colombo                    530    Matale  \n",
            "<class 'pandas.core.frame.DataFrame'>\n",
            "RangeIndex: 27 entries, 0 to 26\n",
            "Data columns (total 8 columns):\n",
            " #   Column                 Non-Null Count  Dtype  \n",
            "---  ------                 --------------  -----  \n",
            " 0   location_id            27 non-null     int64  \n",
            " 1   latitude               27 non-null     float64\n",
            " 2   longitude              27 non-null     float64\n",
            " 3   elevation              27 non-null     int64  \n",
            " 4   utc_offset_seconds     27 non-null     int64  \n",
            " 5   timezone               27 non-null     object \n",
            " 6   timezone_abbreviation  27 non-null     int64  \n",
            " 7   city_name              27 non-null     object \n",
            "dtypes: float64(2), int64(4), object(2)\n",
            "memory usage: 1.8+ KB\n",
            "None\n",
            "       location_id   latitude  longitude    elevation  utc_offset_seconds  \\\n",
            "count    27.000000  27.000000  27.000000    27.000000                27.0   \n",
            "mean     13.000000   7.536289  80.616009   245.777778             19800.0   \n",
            "std       7.937254   1.028163   0.521347   457.903864                 0.0   \n",
            "min       0.000000   5.940246  79.846150     4.000000             19800.0   \n",
            "25%       6.500000   6.889280  80.277745     8.000000             19800.0   \n",
            "50%      13.000000   7.275923  80.534480    38.000000             19800.0   \n",
            "75%      19.500000   8.189807  80.996310   162.000000             19800.0   \n",
            "max      26.000000   9.666080  81.693474  1865.000000             19800.0   \n",
            "\n",
            "       timezone_abbreviation  \n",
            "count                   27.0  \n",
            "mean                   530.0  \n",
            "std                      0.0  \n",
            "min                    530.0  \n",
            "25%                    530.0  \n",
            "50%                    530.0  \n",
            "75%                    530.0  \n",
            "max                    530.0  \n",
            "Dataset shape: (27, 8)\n",
            "\n",
            "Missing values in each column:\n",
            "location_id              0\n",
            "latitude                 0\n",
            "longitude                0\n",
            "elevation                0\n",
            "utc_offset_seconds       0\n",
            "timezone                 0\n",
            "timezone_abbreviation    0\n",
            "city_name                0\n",
            "dtype: int64\n",
            "\n",
            "Data types of each column:\n",
            "location_id                int64\n",
            "latitude                 float64\n",
            "longitude                float64\n",
            "elevation                  int64\n",
            "utc_offset_seconds         int64\n",
            "timezone                  object\n",
            "timezone_abbreviation      int64\n",
            "city_name                 object\n",
            "dtype: object\n",
            "\n",
            "Summary statistics for numerical columns:\n",
            "       location_id   latitude  longitude    elevation  utc_offset_seconds  \\\n",
            "count    27.000000  27.000000  27.000000    27.000000                27.0   \n",
            "mean     13.000000   7.536289  80.616009   245.777778             19800.0   \n",
            "std       7.937254   1.028163   0.521347   457.903864                 0.0   \n",
            "min       0.000000   5.940246  79.846150     4.000000             19800.0   \n",
            "25%       6.500000   6.889280  80.277745     8.000000             19800.0   \n",
            "50%      13.000000   7.275923  80.534480    38.000000             19800.0   \n",
            "75%      19.500000   8.189807  80.996310   162.000000             19800.0   \n",
            "max      26.000000   9.666080  81.693474  1865.000000             19800.0   \n",
            "\n",
            "       timezone_abbreviation  \n",
            "count                   27.0  \n",
            "mean                   530.0  \n",
            "std                      0.0  \n",
            "min                    530.0  \n",
            "25%                    530.0  \n",
            "50%                    530.0  \n",
            "75%                    530.0  \n",
            "max                    530.0  \n"
          ]
        }
      ]
    }
  ]
}